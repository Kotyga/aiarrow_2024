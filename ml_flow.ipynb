{
  "metadata": {
    "kernelspec": {
      "language": "python",
      "display_name": "Python 3",
      "name": "python3"
    },
    "language_info": {
      "name": "python",
      "version": "3.10.13",
      "mimetype": "text/x-python",
      "codemirror_mode": {
        "name": "ipython",
        "version": 3
      },
      "pygments_lexer": "ipython3",
      "nbconvert_exporter": "python",
      "file_extension": ".py"
    },
    "kaggle": {
      "accelerator": "none",
      "dataSources": [
        {
          "sourceId": 57681,
          "databundleVersionId": 6235600,
          "sourceType": "competition"
        }
      ],
      "dockerImageVersionId": 30732,
      "isInternetEnabled": true,
      "language": "python",
      "sourceType": "notebook",
      "isGpuEnabled": false
    },
    "colab": {
      "provenance": [],
      "include_colab_link": true
    }
  },
  "nbformat_minor": 0,
  "nbformat": 4,
  "cells": [
    {
      "cell_type": "markdown",
      "metadata": {
        "id": "view-in-github",
        "colab_type": "text"
      },
      "source": [
        "<a href=\"https://colab.research.google.com/github/Kotyga/aiarrow_2024/blob/main/ml_flow.ipynb\" target=\"_parent\"><img src=\"https://colab.research.google.com/assets/colab-badge.svg\" alt=\"Open In Colab\"/></a>"
      ]
    },
    {
      "cell_type": "code",
      "source": [
        "!pip install catboost -q\n",
        "!pip install eli5 -q\n",
        "!pip install lime -q\n",
        "!pip install shap -q\n",
        "\n",
        "# ----------------------------------------\n",
        "\n",
        "import warnings\n",
        "warnings.filterwarnings('ignore')\n",
        "\n",
        "# ----------------------------------------\n",
        "\n",
        "import numpy as np\n",
        "import pandas as pd\n",
        "from sklearn.model_selection import train_test_split\n",
        "from sklearn.preprocessing import LabelEncoder\n",
        "from sklearn.impute import KNNImputer\n",
        "from sklearn.ensemble import IsolationForest\n",
        "from sklearn.ensemble import RandomForestClassifier\n",
        "from sklearn.model_selection import KFold, StratifiedKFold\n",
        "from sklearn.metrics import roc_auc_score\n",
        "# from sklearn.preprocessing import StandardScaler\n",
        "import seaborn as sns\n",
        "import matplotlib.pyplot as plt\n",
        "from catboost import CatBoostClassifier, Pool\n",
        "import eli5, lime, shap\n",
        "\n",
        "\n",
        "\n",
        "import os\n",
        "for dirname, _, filenames in os.walk('/kaggle/input'):\n",
        "    for filename in filenames:\n",
        "        print(os.path.join(dirname, filename))"
      ],
      "metadata": {
        "_uuid": "8f2839f25d086af736a60e9eeb907d3b93b6e0e5",
        "_cell_guid": "b1076dfc-b9ad-4769-8c92-a6c4dae69d19",
        "_kg_hide-input": true,
        "_kg_hide-output": true,
        "execution": {
          "iopub.status.busy": "2024-07-05T06:37:49.496174Z",
          "iopub.execute_input": "2024-07-05T06:37:49.496590Z",
          "iopub.status.idle": "2024-07-05T06:38:47.798983Z",
          "shell.execute_reply.started": "2024-07-05T06:37:49.496555Z",
          "shell.execute_reply": "2024-07-05T06:38:47.797604Z"
        },
        "trusted": true,
        "id": "zdcjjYCdFpCq"
      },
      "execution_count": null,
      "outputs": []
    },
    {
      "cell_type": "code",
      "source": [
        "%%html\n",
        "<!DOCTYPE html>\n",
        "<html>\n",
        "<head>\n",
        "<style>\n",
        "  .gradient-background {\n",
        "    background: linear-gradient(to bottom right, navy, purple);\n",
        "    color: white;\n",
        "    height: 45px;\n",
        "    display: flex;\n",
        "    justify-content: center;\n",
        "    align-items: center;\n",
        "    font-size: 15px;\n",
        "  }\n",
        "</style>\n",
        "</head>\n",
        "<body>\n",
        "  <div class=\"gradient-background\">\n",
        "      <h1> 🔥 Разбор соревнования </h1>\n",
        "  </div>\n",
        "</body>\n",
        "</html>"
      ],
      "metadata": {
        "_kg_hide-input": true,
        "execution": {
          "iopub.status.busy": "2024-07-05T06:38:47.801168Z",
          "iopub.execute_input": "2024-07-05T06:38:47.801897Z",
          "iopub.status.idle": "2024-07-05T06:38:47.811795Z",
          "shell.execute_reply.started": "2024-07-05T06:38:47.801863Z",
          "shell.execute_reply": "2024-07-05T06:38:47.810614Z"
        },
        "trusted": true,
        "id": "GzRKpDphFpCr"
      },
      "execution_count": null,
      "outputs": []
    },
    {
      "cell_type": "markdown",
      "source": [
        "В этом соревновании тебе предстоит использовать набор данных о кредитном риске. Набор данных содержит информацию о различных атрибутах клиентов. Кроме того, в наборе данных присутствует целевая переменная, которая указывает на факт дефолта по кредиту. Твоя задача заключается в построении модели, которая сможет прогнозировать вероятность возникновения дефолта на основе предоставленных атрибутов клиента.\n",
        "\n",
        "Метрика: ROC-AUC"
      ],
      "metadata": {
        "id": "OzvEfNbdFpCs"
      }
    },
    {
      "cell_type": "markdown",
      "source": [
        "Описание данных\n",
        "\n",
        "| Название характеристики | Описание |\n",
        "| --- | --- |\n",
        "| person_age | Возраст |\n",
        "| person_income | Годовой доход |\n",
        "| person_home_ownership | Владение жильем |\n",
        "| person_emp_length | Продолжительность работы (в годах) |\n",
        "| loan_intent | Цель кредитования |\n",
        "| loan_grade | Класс кредита |\n",
        "| loan_amnt | Сумма кредита |\n",
        "| loan_int_rate | Процентная ставка |\n",
        "| loan_status | Статус кредита (0 - не дефолт 1 - дефолт) |\n",
        "| loan_percent_income | Процентный доход |\n",
        "| cb_person_default_on_file | Исторический дефолт |\n",
        "| cb_preson_cred_hist_length | Продолжительность кредитной истории |\n",
        "\n",
        "Вам нужно будет предсказать loan_status.\n",
        "\n",
        "[Автор разбора: Майя Котыга](https://www.kaggle.com/mayyakotyga)"
      ],
      "metadata": {
        "id": "tlRPFg5nFpCv"
      }
    },
    {
      "cell_type": "code",
      "source": [
        "%%html\n",
        "<!DOCTYPE html>\n",
        "<html>\n",
        "<head>\n",
        "</head>\n",
        "<body>\n",
        "  <div class=\"gradient-background\">\n",
        "      <h2> 🔎 Обзор данных </h2>\n",
        "  </div>\n",
        "</body>\n",
        "</html>"
      ],
      "metadata": {
        "_kg_hide-input": true,
        "execution": {
          "iopub.status.busy": "2024-07-05T06:38:47.813154Z",
          "iopub.execute_input": "2024-07-05T06:38:47.813511Z",
          "iopub.status.idle": "2024-07-05T06:38:47.829481Z",
          "shell.execute_reply.started": "2024-07-05T06:38:47.813483Z",
          "shell.execute_reply": "2024-07-05T06:38:47.828314Z"
        },
        "trusted": true,
        "id": "niyOWFWTFpCv"
      },
      "execution_count": null,
      "outputs": []
    },
    {
      "cell_type": "markdown",
      "source": [
        "Препроцессинг данных играет ключевую роль в успешной работе с моделями машинного обучения. Работа с пропущенными значениями, категориальными признаками и другими аспектами данных помогает улучшить качество моделей и сделать предсказания более точными и надежными.\n",
        "\n",
        "1. Работа с пропущенными значениями: Пропущенные данные могут исказить результаты моделирования, поэтому важно разработать стратегию их обработки. Это может включать заполнение пропущенных значений средним или медианой, удаление строк или столбцов с отсутствующими данными, или использование специальных алгоритмов для заполнения пропусков.\n",
        "\n",
        "2. Кодирование категориальных признаков: Модели машинного обучения требуют числовых данных, поэтому необходимо преобразовать категориальные признаки в числовой формат. Это может быть достигнуто с помощью методов кодирования, таких как One-Hot Encoding или Label Encoding.\n",
        "\n",
        "3. Масштабирование данных: Некоторые модели машинного обучения, например, линейная регрессия или метод ближайших соседей, требуют масштабирования данных для более эффективной работы. Это может быть выполнено с использованием стандартизации или нормализации данных.\n",
        "\n",
        "В целом, хороший препроцессинг данных позволяет улучшить качество моделей машинного обучения, повысить их эффективность и точность прогнозов, а также уменьшить вероятность переобучения модели."
      ],
      "metadata": {
        "id": "lfu9ydeqFpCv"
      }
    },
    {
      "cell_type": "code",
      "source": [
        "df = pd.read_csv('/kaggle/input/predictingtheprobabilityofloandefault/train.csv')\n",
        "df.head()"
      ],
      "metadata": {
        "execution": {
          "iopub.status.busy": "2024-07-05T06:38:47.832360Z",
          "iopub.execute_input": "2024-07-05T06:38:47.833013Z",
          "iopub.status.idle": "2024-07-05T06:38:47.901948Z",
          "shell.execute_reply.started": "2024-07-05T06:38:47.832970Z",
          "shell.execute_reply": "2024-07-05T06:38:47.900987Z"
        },
        "trusted": true,
        "id": "cCnzzWAjFpCw"
      },
      "execution_count": null,
      "outputs": []
    },
    {
      "cell_type": "code",
      "source": [
        "df.info()"
      ],
      "metadata": {
        "execution": {
          "iopub.status.busy": "2024-07-05T06:38:47.903067Z",
          "iopub.execute_input": "2024-07-05T06:38:47.903400Z",
          "iopub.status.idle": "2024-07-05T06:38:47.922804Z",
          "shell.execute_reply.started": "2024-07-05T06:38:47.903373Z",
          "shell.execute_reply": "2024-07-05T06:38:47.921608Z"
        },
        "trusted": true,
        "id": "8mjB_midFpCw"
      },
      "execution_count": null,
      "outputs": []
    },
    {
      "cell_type": "markdown",
      "source": [
        "## Работа с категориальными признаками\n",
        "### Стратегии\n",
        "* Ничего не делать (работает с немногими моделями)\n",
        "* OHE\n",
        "* Label Encoding\n",
        "* Frequency Encodind\n",
        "* Выкинуть (можем выкинуть хороший признак)"
      ],
      "metadata": {
        "id": "XbN4_txMFpCw"
      }
    },
    {
      "cell_type": "code",
      "source": [
        "l_e = []\n",
        "for i in df.columns:\n",
        "    if df[i].dtype == 'O':\n",
        "        m = LabelEncoder()\n",
        "        df[i] = m.fit_transform(df[i])\n",
        "        l_e.append(m)"
      ],
      "metadata": {
        "execution": {
          "iopub.status.busy": "2024-07-05T06:38:47.924322Z",
          "iopub.execute_input": "2024-07-05T06:38:47.924643Z",
          "iopub.status.idle": "2024-07-05T06:38:47.956145Z",
          "shell.execute_reply.started": "2024-07-05T06:38:47.924616Z",
          "shell.execute_reply": "2024-07-05T06:38:47.954867Z"
        },
        "trusted": true,
        "id": "ZxRq1iC1FpCx"
      },
      "execution_count": null,
      "outputs": []
    },
    {
      "cell_type": "markdown",
      "source": [
        "## Работа с пропущенными значениями\n",
        "\n",
        "### Стратегии\n",
        "\n",
        "* Выбросить\n",
        "* Заполнить нулями\n",
        "* Заполнить статситикой (среднее, медиана, мода)\n",
        "* Посмотреть на соседа"
      ],
      "metadata": {
        "id": "TdMKdl8jFpCx"
      }
    },
    {
      "cell_type": "code",
      "source": [
        "round(df.isna().sum() / df.shape[0] * 100, 2)"
      ],
      "metadata": {
        "execution": {
          "iopub.status.busy": "2024-07-05T06:38:47.957458Z",
          "iopub.execute_input": "2024-07-05T06:38:47.957799Z",
          "iopub.status.idle": "2024-07-05T06:38:47.968804Z",
          "shell.execute_reply.started": "2024-07-05T06:38:47.957769Z",
          "shell.execute_reply": "2024-07-05T06:38:47.967561Z"
        },
        "trusted": true,
        "id": "3uhUcYgAFpCy"
      },
      "execution_count": null,
      "outputs": []
    },
    {
      "cell_type": "markdown",
      "source": [
        "#### KNNImputer\n",
        "![image.png](attachment:a3a2b45e-1efa-4d5c-8b78-5d8b26e0c28d.png)"
      ],
      "metadata": {
        "id": "2awlSjvBFpCy"
      }
    },
    {
      "cell_type": "code",
      "source": [
        "imputer = KNNImputer(n_neighbors=25)\n",
        "df = pd.DataFrame(imputer.fit_transform(df), columns=df.columns)\n",
        "df.head()"
      ],
      "metadata": {
        "execution": {
          "iopub.status.busy": "2024-07-05T06:38:47.970143Z",
          "iopub.execute_input": "2024-07-05T06:38:47.970513Z",
          "iopub.status.idle": "2024-07-05T06:38:53.145136Z",
          "shell.execute_reply.started": "2024-07-05T06:38:47.970482Z",
          "shell.execute_reply": "2024-07-05T06:38:53.143811Z"
        },
        "trusted": true,
        "id": "ciR6XEkIFpCy"
      },
      "execution_count": null,
      "outputs": []
    },
    {
      "cell_type": "markdown",
      "source": [
        "## Работа с разномасштабными данными\n",
        "### Стратегии\n",
        "* Ничего (проклятье размерности)\n",
        "* BoxCox преобразование\n",
        "* StandardScaler"
      ],
      "metadata": {
        "id": "0ISUvzi0FpCy"
      }
    },
    {
      "cell_type": "code",
      "source": [
        "# scaler = StandardScaler()\n",
        "# df = pd.DataFrame(scaler.fit_transform(df), columns=df.columns)"
      ],
      "metadata": {
        "execution": {
          "iopub.status.busy": "2024-07-05T06:38:53.146615Z",
          "iopub.execute_input": "2024-07-05T06:38:53.146981Z",
          "iopub.status.idle": "2024-07-05T06:38:53.152553Z",
          "shell.execute_reply.started": "2024-07-05T06:38:53.146951Z",
          "shell.execute_reply": "2024-07-05T06:38:53.150978Z"
        },
        "trusted": true,
        "id": "UUyY4qWpFpCy"
      },
      "execution_count": null,
      "outputs": []
    },
    {
      "cell_type": "code",
      "source": [
        "%%html\n",
        "<!DOCTYPE html>\n",
        "<html>\n",
        "<head>\n",
        "</head>\n",
        "<body>\n",
        "  <div class=\"gradient-background\">\n",
        "      <h2> 📊 Визуальный анализ </h2>\n",
        "  </div>\n",
        "</body>\n",
        "</html>"
      ],
      "metadata": {
        "_kg_hide-input": true,
        "execution": {
          "iopub.status.busy": "2024-07-05T06:38:53.156682Z",
          "iopub.execute_input": "2024-07-05T06:38:53.157757Z",
          "iopub.status.idle": "2024-07-05T06:38:53.175623Z",
          "shell.execute_reply.started": "2024-07-05T06:38:53.157722Z",
          "shell.execute_reply": "2024-07-05T06:38:53.174347Z"
        },
        "trusted": true,
        "id": "TpGc2uZQFpCz"
      },
      "execution_count": null,
      "outputs": []
    },
    {
      "cell_type": "markdown",
      "source": [
        "Визуальный анализ графиков является важным инструментом для участников соревнований по Data Science, так как он позволяет лучше понять данные, выделить закономерности и тренды, а также выявить аномалии и выбросы. Визуализация данных помогает более наглядно представить информацию и делает процесс анализа более эффективным и понятным. Кроме того, графики могут помочь визуально сравнить различные модели или подходы к анализу данных, что помогает выбрать наилучшее решение. В целом, визуальный анализ является важным этапом работы над данными и помогает улучшить качество и точность результатов."
      ],
      "metadata": {
        "id": "62a93fS_FpCz"
      }
    },
    {
      "cell_type": "code",
      "source": [
        "sns.pairplot(\n",
        "    df,\n",
        "    corner=True,\n",
        "    hue=\"loan_status\",\n",
        ");"
      ],
      "metadata": {
        "execution": {
          "iopub.status.busy": "2024-07-05T06:38:53.176823Z",
          "iopub.execute_input": "2024-07-05T06:38:53.177167Z",
          "iopub.status.idle": "2024-07-05T06:41:18.534163Z",
          "shell.execute_reply.started": "2024-07-05T06:38:53.177139Z",
          "shell.execute_reply": "2024-07-05T06:41:18.532704Z"
        },
        "trusted": true,
        "id": "cLs1Dx1KFpCz"
      },
      "execution_count": null,
      "outputs": []
    },
    {
      "cell_type": "code",
      "source": [
        "c_1 = pd.DataFrame(df['loan_status'].value_counts())\n",
        "\n",
        "plt.pie(c_1['count'],\n",
        "         labels = ['Не дефолт', 'Дефолт'],\n",
        "         autopct='%1.1f%%')\n",
        "plt.title('Доля дефолтных кредитов, %');"
      ],
      "metadata": {
        "execution": {
          "iopub.status.busy": "2024-07-05T06:41:18.535815Z",
          "iopub.execute_input": "2024-07-05T06:41:18.536182Z",
          "iopub.status.idle": "2024-07-05T06:41:18.691378Z",
          "shell.execute_reply.started": "2024-07-05T06:41:18.536151Z",
          "shell.execute_reply": "2024-07-05T06:41:18.689809Z"
        },
        "trusted": true,
        "id": "Q5Yw5y_WFpCz"
      },
      "execution_count": null,
      "outputs": []
    },
    {
      "cell_type": "code",
      "source": [
        "corr = df.corr(numeric_only=True).round(2)\n",
        "corr.style.background_gradient(cmap=\"RdYlGn\")"
      ],
      "metadata": {
        "execution": {
          "iopub.status.busy": "2024-07-05T06:41:18.693373Z",
          "iopub.execute_input": "2024-07-05T06:41:18.694305Z",
          "iopub.status.idle": "2024-07-05T06:41:18.804316Z",
          "shell.execute_reply.started": "2024-07-05T06:41:18.694241Z",
          "shell.execute_reply": "2024-07-05T06:41:18.803037Z"
        },
        "trusted": true,
        "id": "w2cd7lEDFpCz"
      },
      "execution_count": null,
      "outputs": []
    },
    {
      "cell_type": "code",
      "source": [
        "sns.catplot(\n",
        "    data=df,\n",
        "    x=\"loan_grade\",\n",
        "    y=\"loan_amnt\",\n",
        "    hue=\"loan_status\",\n",
        "    aspect=4,\n",
        "    kind=\"boxen\",\n",
        ").set_xticklabels(rotation=45, horizontalalignment=\"right\");"
      ],
      "metadata": {
        "execution": {
          "iopub.status.busy": "2024-07-05T06:41:18.805781Z",
          "iopub.execute_input": "2024-07-05T06:41:18.806172Z",
          "iopub.status.idle": "2024-07-05T06:41:19.610477Z",
          "shell.execute_reply.started": "2024-07-05T06:41:18.806142Z",
          "shell.execute_reply": "2024-07-05T06:41:19.609080Z"
        },
        "trusted": true,
        "id": "JwdYjM-xFpCz"
      },
      "execution_count": null,
      "outputs": []
    },
    {
      "cell_type": "code",
      "source": [
        "%%html\n",
        "<!DOCTYPE html>\n",
        "<html>\n",
        "<head>\n",
        "</head>\n",
        "<body>\n",
        "  <div class=\"gradient-background\">\n",
        "      <h2> 🗑️ Работа с выбросами </h2>\n",
        "  </div>\n",
        "</body>\n",
        "</html>"
      ],
      "metadata": {
        "_kg_hide-input": true,
        "execution": {
          "iopub.status.busy": "2024-07-05T06:41:19.611836Z",
          "iopub.execute_input": "2024-07-05T06:41:19.612313Z",
          "iopub.status.idle": "2024-07-05T06:41:19.620919Z",
          "shell.execute_reply.started": "2024-07-05T06:41:19.612252Z",
          "shell.execute_reply": "2024-07-05T06:41:19.619568Z"
        },
        "trusted": true,
        "id": "_KY0mD9rFpCz"
      },
      "execution_count": null,
      "outputs": []
    },
    {
      "cell_type": "markdown",
      "source": [
        "Работа с выбросами важна для обеспечения корректной работы модели на данных. Выбросы - это значения, которые сильно отличаются от основной массы данных и могут привести к искажению результатов анализа. Отфильтровать выбросы необходимо для того, чтобы модель машинного обучения не переобучилась на них и не потеряла способность обобщать данные.\n",
        "\n",
        "Однако при этом важно не удалять все выбросы, так как они могут содержать важную информацию или отражать особенности данных. Выбросы в некоторых случаях могут быть результатом ошибок в данных или нестандартных ситуаций, которые также могут произойти в тестовом датасете. Поэтому сбалансированный подход к работе с выбросами позволит достичь оптимального качества модели и ее способности к обобщению на новые данные."
      ],
      "metadata": {
        "id": "rTqKCRcvFpCz"
      }
    },
    {
      "cell_type": "markdown",
      "source": [
        "#### Некоторые алгоритмы\n",
        "* DBSCAN\n",
        "* Правило 3 сигм (для нормального распредедния)\n",
        "* Статистические тесты\n",
        "* Метод перцентилей\n",
        "* Isolation Forest"
      ],
      "metadata": {
        "id": "cjq74HTxFpCz"
      }
    },
    {
      "cell_type": "markdown",
      "source": [
        "#### Isolation Forest\n",
        "\n",
        "![](https://i2.wp.com/miro.medium.com/0*0GuMixLdSZo3V3Nh.)"
      ],
      "metadata": {
        "id": "z1YUG0mCFpCz"
      }
    },
    {
      "cell_type": "code",
      "source": [
        "clf = IsolationForest(contamination=0.05)\n",
        "clf.fit(df)\n",
        "y_pred = clf.predict(df)\n",
        "\n",
        "df = df[y_pred == 1]"
      ],
      "metadata": {
        "execution": {
          "iopub.status.busy": "2024-07-05T06:41:19.622771Z",
          "iopub.execute_input": "2024-07-05T06:41:19.623316Z",
          "iopub.status.idle": "2024-07-05T06:41:21.433179Z",
          "shell.execute_reply.started": "2024-07-05T06:41:19.623245Z",
          "shell.execute_reply": "2024-07-05T06:41:21.432012Z"
        },
        "trusted": true,
        "id": "dWq9GgX6FpCz"
      },
      "execution_count": null,
      "outputs": []
    },
    {
      "cell_type": "code",
      "source": [
        "df.shape"
      ],
      "metadata": {
        "execution": {
          "iopub.status.busy": "2024-07-05T06:41:21.434939Z",
          "iopub.execute_input": "2024-07-05T06:41:21.435309Z",
          "iopub.status.idle": "2024-07-05T06:41:21.442188Z",
          "shell.execute_reply.started": "2024-07-05T06:41:21.435277Z",
          "shell.execute_reply": "2024-07-05T06:41:21.441055Z"
        },
        "trusted": true,
        "id": "3EEnSGxPFpC0"
      },
      "execution_count": null,
      "outputs": []
    },
    {
      "cell_type": "code",
      "source": [
        "%%html\n",
        "<!DOCTYPE html>\n",
        "<html>\n",
        "<head>\n",
        "</head>\n",
        "<body>\n",
        "  <div class=\"gradient-background\">\n",
        "      <h2> 🤖 Построение моделей </h2>\n",
        "  </div>\n",
        "</body>\n",
        "</html>"
      ],
      "metadata": {
        "_kg_hide-input": true,
        "execution": {
          "iopub.status.busy": "2024-07-05T06:41:21.443499Z",
          "iopub.execute_input": "2024-07-05T06:41:21.443905Z",
          "iopub.status.idle": "2024-07-05T06:41:21.455667Z",
          "shell.execute_reply.started": "2024-07-05T06:41:21.443865Z",
          "shell.execute_reply": "2024-07-05T06:41:21.454064Z"
        },
        "trusted": true,
        "id": "ye_LATQPFpC0"
      },
      "execution_count": null,
      "outputs": []
    },
    {
      "cell_type": "markdown",
      "source": [
        "#### Catboost\n",
        "![](https://newtechaudit.ru/wp-content/uploads/2021/12/1456.jpg)"
      ],
      "metadata": {
        "id": "aACvVUvjFpC0"
      }
    },
    {
      "cell_type": "markdown",
      "source": [
        "![](https://scikit-learn.ru/wp-content/uploads/2021/10/image-161.png)"
      ],
      "metadata": {
        "id": "6TenooFfFpC0"
      }
    },
    {
      "cell_type": "code",
      "source": [
        "X = df.drop(\"loan_status\", axis=1, errors=\"ignore\")\n",
        "y = df[[\"loan_status\"]]\n",
        "\n",
        "n_splits = 10\n",
        "clfs = []\n",
        "scores = []\n",
        "\n",
        "kf = KFold(n_splits=n_splits, shuffle=True, random_state=7575)\n",
        "for num, (train_index, test_index) in enumerate(kf.split(X)):\n",
        "\n",
        "    X_train, X_test = X.iloc[train_index], X.iloc[test_index]\n",
        "    y_train, y_test = y.iloc[train_index], y.iloc[test_index]\n",
        "\n",
        "    clf = CatBoostClassifier(\n",
        "        iterations=2000,\n",
        "        depth=6,\n",
        "        learning_rate=0.1,\n",
        "        l2_leaf_reg=4,\n",
        "        cat_features=[],\n",
        "        thread_count=-1,\n",
        "        random_seed=7575,\n",
        "        class_weights=[1, 1],\n",
        "        leaf_estimation_method='Newton',\n",
        "        subsample=0.60,\n",
        "        verbose=False\n",
        "    )\n",
        "\n",
        "    clfs.append(clf)\n",
        "\n",
        "    clf.fit(X_train, y_train[\"loan_status\"])\n",
        "\n",
        "    y_pred = clf.predict(X_test)\n",
        "    score = np.mean(np.array(y_pred == y_test[\"loan_status\"]))\n",
        "    scores.append(score)\n",
        "    print(f\"fold: {num} acc: {score}\")\n",
        "\n",
        "assert len(clfs) == n_splits  # Проверка, что все ок\n",
        "\n",
        "# Считаем среднее и дисперсию по всем фолдам\n",
        "print(\"mean accuracy score --\", np.mean(scores, dtype=\"float16\"), np.std(scores).round(4))"
      ],
      "metadata": {
        "execution": {
          "iopub.status.busy": "2024-07-05T06:41:21.457365Z",
          "iopub.execute_input": "2024-07-05T06:41:21.457863Z",
          "iopub.status.idle": "2024-07-05T06:43:35.236625Z",
          "shell.execute_reply.started": "2024-07-05T06:41:21.457803Z",
          "shell.execute_reply": "2024-07-05T06:43:35.235433Z"
        },
        "trusted": true,
        "id": "tjqIoLT6FpC0"
      },
      "execution_count": null,
      "outputs": []
    },
    {
      "cell_type": "code",
      "source": [
        "clfs = []\n",
        "scores = []\n",
        "kf = StratifiedKFold(n_splits=n_splits, shuffle=True, random_state=7575)\n",
        "\n",
        "for train_index, test_index in kf.split(X=X, y=y[\"loan_status\"]):\n",
        "\n",
        "    X_train, X_test = X.iloc[train_index], X.iloc[test_index]\n",
        "    y_train, y_test = y.iloc[train_index], y.iloc[test_index]\n",
        "\n",
        "    # print(X_train.shape, y_train.shape)\n",
        "    clf = CatBoostClassifier(\n",
        "        iterations=2000,\n",
        "        depth=6,\n",
        "        learning_rate=0.1,\n",
        "        l2_leaf_reg=4,\n",
        "        cat_features=[],  # список категориальных признаков, если есть\n",
        "        thread_count=-1,\n",
        "        random_seed=7575,\n",
        "        class_weights=[1, 1],  # балансировка классов\n",
        "        leaf_estimation_method='Newton',\n",
        "        subsample=0.60,\n",
        "        verbose=False\n",
        "    )\n",
        "\n",
        "    clfs.append(clf)\n",
        "\n",
        "    clf.fit(X_train, y_train[\"loan_status\"])\n",
        "\n",
        "    y_pred = clf.predict(X_test)\n",
        "    score = np.mean(np.array(y_pred == y_test[\"loan_status\"]))\n",
        "    scores.append(score)\n",
        "    print(f\"fold: acc: {score}\")\n",
        "\n",
        "assert len(clfs) == n_splits\n",
        "print(\n",
        "    \"mean accuracy score --\", np.mean(scores, dtype=\"float16\"), np.std(scores).round(4)\n",
        ")"
      ],
      "metadata": {
        "execution": {
          "iopub.status.busy": "2024-07-05T06:43:35.238308Z",
          "iopub.execute_input": "2024-07-05T06:43:35.238711Z",
          "iopub.status.idle": "2024-07-05T06:45:51.936359Z",
          "shell.execute_reply.started": "2024-07-05T06:43:35.238679Z",
          "shell.execute_reply": "2024-07-05T06:45:51.934983Z"
        },
        "trusted": true,
        "id": "NNMHVziFFpC1"
      },
      "execution_count": null,
      "outputs": []
    },
    {
      "cell_type": "code",
      "source": [
        "%%html\n",
        "<!DOCTYPE html>\n",
        "<html>\n",
        "<head>\n",
        "</head>\n",
        "<body>\n",
        "  <div class=\"gradient-background\">\n",
        "      <h2> 🎯 Предсказываем на тесте </h2>\n",
        "  </div>\n",
        "</body>\n",
        "</html>"
      ],
      "metadata": {
        "_kg_hide-input": true,
        "execution": {
          "iopub.status.busy": "2024-07-05T06:45:51.937715Z",
          "iopub.execute_input": "2024-07-05T06:45:51.938131Z",
          "iopub.status.idle": "2024-07-05T06:45:51.945725Z",
          "shell.execute_reply.started": "2024-07-05T06:45:51.938093Z",
          "shell.execute_reply": "2024-07-05T06:45:51.944625Z"
        },
        "trusted": true,
        "id": "HpzVDPQ6FpC1"
      },
      "execution_count": null,
      "outputs": []
    },
    {
      "cell_type": "code",
      "source": [
        "test = pd.read_csv('/kaggle/input/predictingtheprobabilityofloandefault/test.csv')\n",
        "test.info()"
      ],
      "metadata": {
        "execution": {
          "iopub.status.busy": "2024-07-05T06:45:51.947011Z",
          "iopub.execute_input": "2024-07-05T06:45:51.947371Z",
          "iopub.status.idle": "2024-07-05T06:45:51.976232Z",
          "shell.execute_reply.started": "2024-07-05T06:45:51.947337Z",
          "shell.execute_reply": "2024-07-05T06:45:51.975100Z"
        },
        "trusted": true,
        "id": "CSt973K2FpC1"
      },
      "execution_count": null,
      "outputs": []
    },
    {
      "cell_type": "code",
      "source": [
        "l_e_t = []\n",
        "for i in test.columns:\n",
        "    if test[i].dtype == 'O':\n",
        "        m = LabelEncoder()\n",
        "        test[i] = m.fit_transform(test[i])\n",
        "        l_e_t.append(m)"
      ],
      "metadata": {
        "execution": {
          "iopub.status.busy": "2024-07-05T06:45:51.977445Z",
          "iopub.execute_input": "2024-07-05T06:45:51.977754Z",
          "iopub.status.idle": "2024-07-05T06:45:51.992721Z",
          "shell.execute_reply.started": "2024-07-05T06:45:51.977728Z",
          "shell.execute_reply": "2024-07-05T06:45:51.991674Z"
        },
        "trusted": true,
        "id": "rCRsxNPGFpC1"
      },
      "execution_count": null,
      "outputs": []
    },
    {
      "cell_type": "code",
      "source": [
        "imputer = KNNImputer(n_neighbors=25)\n",
        "test = pd.DataFrame(imputer.fit_transform(test), columns=test.columns)"
      ],
      "metadata": {
        "execution": {
          "iopub.status.busy": "2024-07-05T06:45:51.994194Z",
          "iopub.execute_input": "2024-07-05T06:45:51.994977Z",
          "iopub.status.idle": "2024-07-05T06:45:52.426525Z",
          "shell.execute_reply.started": "2024-07-05T06:45:51.994936Z",
          "shell.execute_reply": "2024-07-05T06:45:52.425356Z"
        },
        "trusted": true,
        "id": "OlDU4I4cFpC2"
      },
      "execution_count": null,
      "outputs": []
    },
    {
      "cell_type": "code",
      "source": [
        "sub = pd.read_csv('/kaggle/input/predictingtheprobabilityofloandefault/sample_submission.csv')"
      ],
      "metadata": {
        "execution": {
          "iopub.status.busy": "2024-07-05T06:45:52.428068Z",
          "iopub.execute_input": "2024-07-05T06:45:52.428512Z",
          "iopub.status.idle": "2024-07-05T06:45:52.437209Z",
          "shell.execute_reply.started": "2024-07-05T06:45:52.428480Z",
          "shell.execute_reply": "2024-07-05T06:45:52.436137Z"
        },
        "trusted": true,
        "id": "Zg7jHm4BFpC2"
      },
      "execution_count": null,
      "outputs": []
    },
    {
      "cell_type": "code",
      "source": [
        "targets = ['loan_status']"
      ],
      "metadata": {
        "execution": {
          "iopub.status.busy": "2024-07-05T06:45:52.438639Z",
          "iopub.execute_input": "2024-07-05T06:45:52.438987Z",
          "iopub.status.idle": "2024-07-05T06:45:52.448599Z",
          "shell.execute_reply.started": "2024-07-05T06:45:52.438959Z",
          "shell.execute_reply": "2024-07-05T06:45:52.447342Z"
        },
        "trusted": true,
        "id": "Ov4M1Mx2FpC2"
      },
      "execution_count": null,
      "outputs": []
    },
    {
      "cell_type": "code",
      "source": [
        "# массив для записи финального прогноза size*n_class\n",
        "y_pred = np.zeros((sub.shape[0], df[targets].nunique()[0]))\n",
        "\n",
        "# Используем все модели из списка clfs для инференса\n",
        "for n, clf in enumerate(clfs):\n",
        "    y_pred += clf.predict_proba(test)"
      ],
      "metadata": {
        "execution": {
          "iopub.status.busy": "2024-07-05T06:45:52.449929Z",
          "iopub.execute_input": "2024-07-05T06:45:52.450271Z",
          "iopub.status.idle": "2024-07-05T06:45:52.557599Z",
          "shell.execute_reply.started": "2024-07-05T06:45:52.450228Z",
          "shell.execute_reply": "2024-07-05T06:45:52.556359Z"
        },
        "trusted": true,
        "id": "7h2IbiFtFpC3"
      },
      "execution_count": null,
      "outputs": []
    },
    {
      "cell_type": "code",
      "source": [
        "f = lambda x: clf.classes_[x]\n",
        "sub[\"prediction\"] = list(map(f, y_pred.argmax(axis=1)))\n",
        "\n",
        "sub.to_csv(\"catboost_kfold_v1.csv\", index=False)"
      ],
      "metadata": {
        "execution": {
          "iopub.status.busy": "2024-07-05T06:45:52.564231Z",
          "iopub.execute_input": "2024-07-05T06:45:52.564647Z",
          "iopub.status.idle": "2024-07-05T06:45:52.615310Z",
          "shell.execute_reply.started": "2024-07-05T06:45:52.564613Z",
          "shell.execute_reply": "2024-07-05T06:45:52.614078Z"
        },
        "trusted": true,
        "id": "ydPs_bQfFpC3"
      },
      "execution_count": null,
      "outputs": []
    },
    {
      "cell_type": "markdown",
      "source": [
        "Для того, чтобы много раз не делать одни и те же шаги, используйте функции и pipeline"
      ],
      "metadata": {
        "id": "2nmeBPcTFpC3"
      }
    },
    {
      "cell_type": "code",
      "source": [
        "%%html\n",
        "<!DOCTYPE html>\n",
        "<html>\n",
        "<head>\n",
        "</head>\n",
        "<body>\n",
        "  <div class=\"gradient-background\">\n",
        "      <h2> 🤔 Интерпретация результатов </h2>\n",
        "  </div>\n",
        "</body>\n",
        "</html>"
      ],
      "metadata": {
        "execution": {
          "iopub.status.busy": "2024-07-05T06:45:52.616704Z",
          "iopub.execute_input": "2024-07-05T06:45:52.617184Z",
          "iopub.status.idle": "2024-07-05T06:45:52.625661Z",
          "shell.execute_reply.started": "2024-07-05T06:45:52.617142Z",
          "shell.execute_reply": "2024-07-05T06:45:52.624223Z"
        },
        "_kg_hide-input": true,
        "trusted": true,
        "id": "3l7jXgvnFpC3"
      },
      "execution_count": null,
      "outputs": []
    },
    {
      "cell_type": "code",
      "source": [
        "model = clfs[0]"
      ],
      "metadata": {
        "execution": {
          "iopub.status.busy": "2024-07-05T06:45:52.628190Z",
          "iopub.execute_input": "2024-07-05T06:45:52.628703Z",
          "iopub.status.idle": "2024-07-05T06:45:52.634296Z",
          "shell.execute_reply.started": "2024-07-05T06:45:52.628663Z",
          "shell.execute_reply": "2024-07-05T06:45:52.633191Z"
        },
        "trusted": true,
        "id": "MZI-XWT_FpC3"
      },
      "execution_count": null,
      "outputs": []
    },
    {
      "cell_type": "code",
      "source": [
        "y_pred_proba = model.predict_proba(X_test)[:, 1]\n",
        "print(\"ROC-AUC:\", roc_auc_score(y_test, y_pred_proba))"
      ],
      "metadata": {
        "execution": {
          "iopub.status.busy": "2024-07-05T06:45:52.635694Z",
          "iopub.execute_input": "2024-07-05T06:45:52.636640Z",
          "iopub.status.idle": "2024-07-05T06:45:52.658122Z",
          "shell.execute_reply.started": "2024-07-05T06:45:52.636608Z",
          "shell.execute_reply": "2024-07-05T06:45:52.657014Z"
        },
        "trusted": true,
        "id": "cN8IDRe-FpC4"
      },
      "execution_count": null,
      "outputs": []
    },
    {
      "cell_type": "code",
      "source": [
        "# your code here\n",
        "# Get feature importances\n",
        "feature_importances = model.get_feature_importance(data=Pool(X_train, label=y_train), type='FeatureImportance')\n",
        "\n",
        "# Get feature names\n",
        "feature_names = X_train.columns\n",
        "\n",
        "# Sort feature importances in descending order\n",
        "sorted_indices = np.argsort(feature_importances)[::-1]\n",
        "sorted_feature_importances = feature_importances[sorted_indices]\n",
        "sorted_feature_names = feature_names[sorted_indices]\n",
        "\n",
        "# Plot feature importances\n",
        "plt.figure(figsize=(10, 6))\n",
        "plt.bar(range(len(feature_names)), sorted_feature_importances)\n",
        "plt.xticks(range(len(feature_names)), sorted_feature_names, rotation=90)\n",
        "plt.xlabel(\"Features\")\n",
        "plt.ylabel(\"Information Gain\")\n",
        "plt.title(\"Feature Importance Based on Information Gain\")\n",
        "plt.tight_layout()\n",
        "plt.show()"
      ],
      "metadata": {
        "execution": {
          "iopub.status.busy": "2024-07-05T06:45:52.659403Z",
          "iopub.execute_input": "2024-07-05T06:45:52.659804Z",
          "iopub.status.idle": "2024-07-05T06:45:53.325640Z",
          "shell.execute_reply.started": "2024-07-05T06:45:52.659775Z",
          "shell.execute_reply": "2024-07-05T06:45:53.324345Z"
        },
        "trusted": true,
        "id": "2pnB2nurFpC4"
      },
      "execution_count": null,
      "outputs": []
    },
    {
      "cell_type": "code",
      "source": [
        "perm = eli5.sklearn.PermutationImportance(model, random_state=42).fit(X_train, y_train)\n",
        "eli5.show_weights(perm, feature_names = X_train.columns.tolist())"
      ],
      "metadata": {
        "execution": {
          "iopub.status.busy": "2024-07-05T06:45:53.327274Z",
          "iopub.execute_input": "2024-07-05T06:45:53.327753Z",
          "iopub.status.idle": "2024-07-05T06:45:55.094390Z",
          "shell.execute_reply.started": "2024-07-05T06:45:53.327711Z",
          "shell.execute_reply": "2024-07-05T06:45:55.093019Z"
        },
        "trusted": true,
        "id": "9RhKcNOTFpC4"
      },
      "execution_count": null,
      "outputs": []
    },
    {
      "cell_type": "code",
      "source": [
        "explainer = shap.TreeExplainer(model)\n",
        "shap_values = explainer.shap_values(X_test)\n",
        "\n",
        "shap.summary_plot(shap_values, X_test)"
      ],
      "metadata": {
        "execution": {
          "iopub.status.busy": "2024-07-05T06:45:55.096083Z",
          "iopub.execute_input": "2024-07-05T06:45:55.096576Z",
          "iopub.status.idle": "2024-07-05T06:45:57.961781Z",
          "shell.execute_reply.started": "2024-07-05T06:45:55.096541Z",
          "shell.execute_reply": "2024-07-05T06:45:57.960514Z"
        },
        "trusted": true,
        "id": "ttifwKROFpC4"
      },
      "execution_count": null,
      "outputs": []
    },
    {
      "cell_type": "code",
      "source": [
        "shap.initjs()\n",
        "\n",
        "print('Correct answer:', y_test.iloc[5])\n",
        "shap.force_plot(explainer.expected_value, shap_values[5,:], X_test.iloc[5,:])"
      ],
      "metadata": {
        "execution": {
          "iopub.status.busy": "2024-07-05T06:45:57.963270Z",
          "iopub.execute_input": "2024-07-05T06:45:57.963715Z",
          "iopub.status.idle": "2024-07-05T06:45:57.983106Z",
          "shell.execute_reply.started": "2024-07-05T06:45:57.963675Z",
          "shell.execute_reply": "2024-07-05T06:45:57.981837Z"
        },
        "trusted": true,
        "id": "rnNhtI1cFpC4"
      },
      "execution_count": null,
      "outputs": []
    },
    {
      "cell_type": "code",
      "source": [
        "explainer = lime.lime_tabular.LimeTabularExplainer(X_test.values, feature_names=X_test.columns.values.tolist(), mode='regression')\n",
        "explanation = explainer.explain_instance(X_test.values[5], model.predict, num_features=5)\n",
        "\n",
        "explanation.show_in_notebook(show_table=True)"
      ],
      "metadata": {
        "execution": {
          "iopub.status.busy": "2024-07-05T06:45:57.984367Z",
          "iopub.execute_input": "2024-07-05T06:45:57.984698Z",
          "iopub.status.idle": "2024-07-05T06:45:58.364221Z",
          "shell.execute_reply.started": "2024-07-05T06:45:57.984671Z",
          "shell.execute_reply": "2024-07-05T06:45:58.363230Z"
        },
        "trusted": true,
        "id": "WsYVZrS2FpC4"
      },
      "execution_count": null,
      "outputs": []
    }
  ]
}